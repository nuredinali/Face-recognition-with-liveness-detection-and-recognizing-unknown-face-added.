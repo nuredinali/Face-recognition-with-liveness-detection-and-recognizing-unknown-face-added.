{
 "cells": [
  {
   "cell_type": "code",
   "execution_count": 1,
   "metadata": {},
   "outputs": [
    {
     "name": "stderr",
     "output_type": "stream",
     "text": [
      "usage: ipykernel_launcher.py [-h] -i INPUT -o OUTPUT -d DETECTOR\n",
      "                             [-c CONFIDENCE] [-s SKIP]\n",
      "ipykernel_launcher.py: error: the following arguments are required: -i/--input, -o/--output, -d/--detector\n"
     ]
    },
    {
     "ename": "SystemExit",
     "evalue": "2",
     "output_type": "error",
     "traceback": [
      "An exception has occurred, use %tb to see the full traceback.\n",
      "\u001b[1;31mSystemExit\u001b[0m\u001b[1;31m:\u001b[0m 2\n"
     ]
    },
    {
     "name": "stderr",
     "output_type": "stream",
     "text": [
      "C:\\Users\\NUREDIN ALI\\Anaconda3\\envs\\myenv\\lib\\site-packages\\IPython\\core\\interactiveshell.py:3351: UserWarning: To exit: use 'exit', 'quit', or Ctrl-D.\n",
      "  warn(\"To exit: use 'exit', 'quit', or Ctrl-D.\", stacklevel=1)\n"
     ]
    }
   ],
   "source": [
    "# USAGE\n",
    "# python gather_examples.py --input videos/real.mov --output dataset/real --detector face_detector --skip 1\n",
    "# python gather_examples.py --input videos/fake.mp4 --output dataset/fake --detector face_detector --skip 4\n",
    "\n",
    "# import the necessary packages\n",
    "import numpy as np\n",
    "import argparse\n",
    "import cv2\n",
    "import os\n",
    "\n",
    "# construct the argument parser and parse the arguments\n",
    "ap = argparse.ArgumentParser()\n",
    "ap.add_argument(\"-i\", \"--input\", type=str, required=True,\n",
    "\thelp=\"path to input video\")\n",
    "ap.add_argument(\"-o\", \"--output\", type=str, required=True,\n",
    "\thelp=\"path to output directory of cropped faces\")\n",
    "ap.add_argument(\"-d\", \"--detector\", type=str, required=True,\n",
    "\thelp=\"path to OpenCV's deep learning face detector\")\n",
    "ap.add_argument(\"-c\", \"--confidence\", type=float, default=0.5,\n",
    "\thelp=\"minimum probability to filter weak detections\")\n",
    "ap.add_argument(\"-s\", \"--skip\", type=int, default=16,\n",
    "\thelp=\"# of frames to skip before applying face detection\")\n",
    "args = vars(ap.parse_args())\n",
    "\n",
    "# load our serialized face detector from disk\n",
    "print(\"[INFO] loading face detector...\")\n",
    "protoPath = os.path.sep.join([args[\"detector\"], \"deploy.prototxt\"])\n",
    "modelPath = os.path.sep.join([args[\"detector\"],\n",
    "\t\"res10_300x300_ssd_iter_140000.caffemodel\"])\n",
    "net = cv2.dnn.readNetFromCaffe(protoPath, modelPath)\n",
    "\n",
    "# open a pointer to the video file stream and initialize the total\n",
    "# number of frames read and saved thus far\n",
    "vs = cv2.VideoCapture(args[\"input\"])\n",
    "read = 0\n",
    "saved = 0\n",
    "\n",
    "# loop over frames from the video file stream\n",
    "while True:\n",
    "\t# grab the frame from the file\n",
    "\t(grabbed, frame) = vs.read()\n",
    "\n",
    "\t# if the frame was not grabbed, then we have reached the end\n",
    "\t# of the stream\n",
    "\tif not grabbed:\n",
    "\t\tbreak\n",
    "\n",
    "\t# increment the total number of frames read thus far\n",
    "\tread += 1\n",
    "\n",
    "\t# check to see if we should process this frame\n",
    "\tif read % args[\"skip\"] != 0:\n",
    "\t\tcontinue\n",
    "\n",
    "\t# grab the frame dimensions and construct a blob from the frame\n",
    "\t(h, w) = frame.shape[:2]\n",
    "\tblob = cv2.dnn.blobFromImage(cv2.resize(frame, (300, 300)), 1.0,\n",
    "\t\t(300, 300), (104.0, 177.0, 123.0))\n",
    "\n",
    "\t# pass the blob through the network and obtain the detections and\n",
    "\t# predictions\n",
    "\tnet.setInput(blob)\n",
    "\tdetections = net.forward()\n",
    "\n",
    "\t# ensure at least one face was found\n",
    "\tif len(detections) > 0:\n",
    "\t\t# we're making the assumption that each image has only ONE\n",
    "\t\t# face, so find the bounding box with the largest probability\n",
    "\t\ti = np.argmax(detections[0, 0, :, 2])\n",
    "\t\tconfidence = detections[0, 0, i, 2]\n",
    "\n",
    "\t\t# ensure that the detection with the largest probability also\n",
    "\t\t# means our minimum probability test (thus helping filter out\n",
    "\t\t# weak detections)\n",
    "\t\tif confidence > args[\"confidence\"]:\n",
    "\t\t\t# compute the (x, y)-coordinates of the bounding box for\n",
    "\t\t\t# the face and extract the face ROI\n",
    "\t\t\tbox = detections[0, 0, i, 3:7] * np.array([w, h, w, h])\n",
    "\t\t\t(startX, startY, endX, endY) = box.astype(\"int\")\n",
    "\t\t\tface = frame[startY:endY, startX:endX]\n",
    "\n",
    "\t\t\t# write the frame to disk\n",
    "\t\t\tp = os.path.sep.join([args[\"output\"],\n",
    "\t\t\t\t\"{}.png\".format(saved)])\n",
    "\t\t\tcv2.imwrite(p, face)\n",
    "\t\t\tsaved += 1\n",
    "\t\t\tprint(\"[INFO] saved {} to disk\".format(p))\n",
    "\n",
    "# do a bit of cleanup\n",
    "vs.release()\n",
    "cv2.destroyAllWindows()"
   ]
  },
  {
   "cell_type": "code",
   "execution_count": null,
   "metadata": {},
   "outputs": [],
   "source": []
  }
 ],
 "metadata": {
  "kernelspec": {
   "display_name": "Python 3",
   "language": "python",
   "name": "python3"
  },
  "language_info": {
   "codemirror_mode": {
    "name": "ipython",
    "version": 3
   },
   "file_extension": ".py",
   "mimetype": "text/x-python",
   "name": "python",
   "nbconvert_exporter": "python",
   "pygments_lexer": "ipython3",
   "version": "3.6.10"
  }
 },
 "nbformat": 4,
 "nbformat_minor": 4
}
